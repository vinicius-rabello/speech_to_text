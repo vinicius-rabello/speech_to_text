{
 "cells": [
  {
   "cell_type": "code",
   "execution_count": 84,
   "id": "0182a85f",
   "metadata": {},
   "outputs": [],
   "source": [
    "import os\n",
    "import time\n",
    "from google.cloud import speech\n",
    "from datetime import datetime,timedelta"
   ]
  },
  {
   "cell_type": "code",
   "execution_count": 2,
   "id": "27efc26d",
   "metadata": {},
   "outputs": [],
   "source": [
    "os.environ['GOOGLE_APPLICATION_CREDENTIALS']='key.json'\n",
    "client = speech.SpeechClient()"
   ]
  },
  {
   "cell_type": "code",
   "execution_count": 7,
   "id": "e81d8869",
   "metadata": {},
   "outputs": [],
   "source": [
    "with open('files/test_file4.mp3','rb') as f:\n",
    "    data_mp3=f.read()\n",
    "audio_mp3=speech.RecognitionAudio(content=data_mp3)\n",
    "config_mp3=speech.RecognitionConfig(\n",
    "    sample_rate_hertz=48000,\n",
    "    enable_automatic_punctuation=True,\n",
    "    language_code='pt-BR',\n",
    "    use_enhanced=True\n",
    ")"
   ]
  },
  {
   "cell_type": "code",
   "execution_count": 8,
   "id": "567b78d0",
   "metadata": {},
   "outputs": [],
   "source": [
    "response=client.recognize(config=config_mp3,audio=audio_mp3)"
   ]
  },
  {
   "cell_type": "code",
   "execution_count": 95,
   "id": "cef66238",
   "metadata": {},
   "outputs": [],
   "source": [
    "media_uri='gs://audios_reuniao/reuniao_pt4.mp3'\n",
    "audio_mp3=speech.RecognitionAudio(uri=media_uri)\n",
    "config_mp3=speech.RecognitionConfig(\n",
    "    sample_rate_hertz=48000,\n",
    "    enable_automatic_punctuation=True,\n",
    "    language_code='pt-BR',\n",
    "    use_enhanced=True\n",
    ")"
   ]
  },
  {
   "cell_type": "code",
   "execution_count": 96,
   "id": "c08e3630",
   "metadata": {},
   "outputs": [],
   "source": [
    "operation=client.long_running_recognize(config=config_mp3,audio=audio_mp3)"
   ]
  },
  {
   "cell_type": "code",
   "execution_count": 97,
   "id": "c628e973",
   "metadata": {},
   "outputs": [
    {
     "name": "stdout",
     "output_type": "stream",
     "text": [
      "--- 444.86634135246277 seconds ---\n"
     ]
    }
   ],
   "source": [
    "start_time = time.time()\n",
    "\n",
    "response = operation.result()\n",
    "\n",
    "print(\"--- %s seconds ---\" % (time.time() - start_time))"
   ]
  },
  {
   "cell_type": "code",
   "execution_count": 100,
   "id": "e3bb0d25",
   "metadata": {},
   "outputs": [],
   "source": [
    "def clean_str(str):\n",
    "    str=str.replace('\\\\303\\\\247','ç')\n",
    "    str=str.replace('\\\\303\\\\243','ã')\n",
    "    str=str.replace('\\\\303\\\\263','ó')\n",
    "    str=str.replace('\\\\303\\\\241','á')\n",
    "    str=str.replace('\\\\303\\\\252','ê')\n",
    "    str=str.replace('\\\\303\\\\251','é')\n",
    "    str=str.replace('\\\\303\\\\255','í')\n",
    "    str=str.replace('\\\\303\\\\265','õ')\n",
    "    str=str.replace('\\\\303\\\\264','ô')\n",
    "    str=str.replace('\\\\303\\\\242','â')\n",
    "    str=str.replace('\\\\303\\\\240','à')\n",
    "    return str"
   ]
  },
  {
   "cell_type": "code",
   "execution_count": 101,
   "id": "be409c8e",
   "metadata": {},
   "outputs": [
    {
     "name": "stdout",
     "output_type": "stream",
     "text": [
      "[2:16:26.81]: tá, tá\n",
      "[2:17:25.63]:  Sim esse assunto geral questão de colocação porque tem muita gente que parece que parece. Se eu quiser fazer não tem que ter uma empresa que faça tão bonita essas férias que eu fosse maior mais maior que tem uma diferença sobre fazer em aço inox maciço tudo que eu também tô fazendo isso com todos os cursos que a gente vai fazer.\n",
      "[2:18:26.58]:  Dependendo dos orçamentos para licitação para a gente cancelar o contrato atual no mercado atual e ao novo alguém discorda, alguém está satisfeito com de radinho para as pessoas serviço, eu acho que a minha galinha não gosta de vocês. Eu já fiquei até amiga para Catarina cantando fazendo uma citação para substituir de\n",
      "[2:21:26.49]:  Ele teve uma decisão errada de construção. Navegar para região Praiana jamais ia fazer uma textura é complicado que a textura é muito caro. Então ela então mas isso baixada do jogo de um projeto esse infelizmente uma mudança de fachada por como o presente momento em viável, financeiramente isso vai gerar uma bosta.\n",
      "[2:22:26.46]:  Enorme atende na quarta aí Zé, beleza? Mas o problema é que eu não preciso provar eu não vou conseguir conseguir entendeu? Então seu e a gente precisa cuidar de filho feio e não é ele com você.\n",
      "[2:25:38.10]:  Queria sugerir eu vou ver isso agora que nós viajamos para fazer as obras que não posso não perder.\n",
      "[2:26:17.55]:  Nós compramos aqui por causa do dente, ele se palmente aí nesse ano.\n",
      "[2:27:59.10]:  Para colocar flores.\n",
      "[2:28:49.80]:  Essa semana a gente recebe quando o senador que liga a chave o funcionário de plantão no final de semana, só que o domínio Quanto está a lixeira do condomínio tiver que ajudar.\n",
      "[2:29:56.33]:  Rua 209 ela passar ela é muito boa ela segurando pintura pintura muito tempo, nós temos a nossa superfície exterior. Ela é textura, como fazer as coisas porosas não tem como encher essa resina eu sei.\n",
      "[2:30:56.30]:  Fez aqui na frente.\n",
      "[2:35:00.30]:  Que dia o contrato da CNN com a gente?\n",
      "[2:43:00.25]:  Eu quero m\\303\\272sica já falei para essa semana a gente conversar, tá bom? Trabalho 332 status.\n",
      "[2:44:00.22]:  Eu tenho amigos fala ministrador rs.\n",
      "[2:44:58.71]:  O circo tem Contrato, desde que seja previsto para ir para eu fazer para eu tenho eu posso condomínio.\n",
      "[2:45:58.81]:  Doutor queria agradecer a presença de todos que prestigiaram o final de semana às vezes do nada com você.\n",
      "[2:47:53.16]:  obrigado\n",
      "\n"
     ]
    }
   ],
   "source": [
    "output=''\n",
    "dt=timedelta(minutes=135)\n",
    "for result in response.results:\n",
    "    frase=str(result.alternatives[0]).split('\"')[1]\n",
    "    frase=clean_str(frase)\n",
    "    tempo=str(result.result_end_time+dt)[:10]\n",
    "    linha='[{}]: {}\\n'.format(tempo,frase)\n",
    "    output+=linha\n",
    "print(output)"
   ]
  },
  {
   "cell_type": "code",
   "execution_count": null,
   "id": "14ece6ee",
   "metadata": {},
   "outputs": [],
   "source": []
  }
 ],
 "metadata": {
  "kernelspec": {
   "display_name": "Python 3 (ipykernel)",
   "language": "python",
   "name": "python3"
  },
  "language_info": {
   "codemirror_mode": {
    "name": "ipython",
    "version": 3
   },
   "file_extension": ".py",
   "mimetype": "text/x-python",
   "name": "python",
   "nbconvert_exporter": "python",
   "pygments_lexer": "ipython3",
   "version": "3.9.13"
  }
 },
 "nbformat": 4,
 "nbformat_minor": 5
}
